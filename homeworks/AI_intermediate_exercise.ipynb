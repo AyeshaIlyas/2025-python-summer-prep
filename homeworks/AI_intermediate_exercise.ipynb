{
 "cells": [
  {
   "cell_type": "markdown",
   "metadata": {},
   "source": [
    "# Week 2 Homework\n",
    "- **Name: Ayesha Ilyas**\n",
    "- **Instructor: Zack DeSario**\n",
    "- **TA: Hussam Marzooq**\n",
    "- **Section: Fri, 12:30pm-3:00pm**"
   ]
  },
  {
   "cell_type": "markdown",
   "metadata": {},
   "source": [
    "# Q1: Alphabet Slices\n",
    "* Store the first ten letters of the alphabet in a list.\n",
    "* Use a slice to print out the first three letters of the alphabet.\n",
    "* Use a slice to print out any three letters from the middle of your list."
   ]
  },
  {
   "cell_type": "code",
   "execution_count": 33,
   "metadata": {},
   "outputs": [
    {
     "name": "stdout",
     "output_type": "stream",
     "text": [
      "letters -> ['a', 'b', 'c', 'd', 'e', 'f', 'g', 'h', 'i', 'j']\n",
      "letters[:3] -> ['a', 'b', 'c']\n",
      "letters[1:4] -> ['b', 'c', 'd']\n"
     ]
    }
   ],
   "source": [
    "## Extra Credit:  Do this without 'hard coding' the alpahbet.\n",
    "import random\n",
    "\n",
    "# Method 1: Simple and readable\n",
    "# letters = ['a', 'b', 'c', 'd', 'e', 'f', 'g', 'h', 'i', 'j']\n",
    "\n",
    "# Method 2: Less readable but more extensible\n",
    "NUM_LETTERS = 10\n",
    "START_LETTER = 'a'\n",
    "letters = [chr(ord(START_LETTER) + i) for i in range(NUM_LETTERS)]\n",
    "\n",
    "print(f'letters -> {letters}')\n",
    "print(f'letters[:3] -> {letters[:3]}')\n",
    "\n",
    "# print a random slice of three contiguous characters from the letters list\n",
    "start_index = random.randint(0, len(letters) - 3)\n",
    "random_three_letters = letters[start_index: start_index + 3]\n",
    "print(f'letters[{start_index}:{start_index + 3}] -> {random_three_letters}')"
   ]
  },
  {
   "cell_type": "markdown",
   "metadata": {},
   "source": [
    "# Q2:  Covert all the rapper names to title case and save them into a new different list. \n",
    "Example: **lil wayne** becomes **Lil Wayne**"
   ]
  },
  {
   "cell_type": "code",
   "execution_count": 34,
   "metadata": {},
   "outputs": [
    {
     "name": "stdout",
     "output_type": "stream",
     "text": [
      "['Lil Wayne', 'Nicki Minaj', 'Drake']\n"
     ]
    }
   ],
   "source": [
    "rappers = ['lil wayne', 'nicki minaj', 'drake']\n",
    "capitalized_rappers = [rapper.title() for rapper in rappers]\n",
    "print(capitalized_rappers)"
   ]
  },
  {
   "cell_type": "markdown",
   "metadata": {},
   "source": [
    "# Q3: Write a function that takes a number and returns:\n",
    "* True if the input number is even.\n",
    "* False if the input number is odd."
   ]
  },
  {
   "cell_type": "code",
   "execution_count": 35,
   "metadata": {},
   "outputs": [
    {
     "name": "stdout",
     "output_type": "stream",
     "text": [
      "True\n",
      "False\n"
     ]
    }
   ],
   "source": [
    "def even_odd(num):\n",
    "    return num % 2 == 0\n",
    "\n",
    "print(even_odd(2))\n",
    "print(even_odd(3))"
   ]
  },
  {
   "cell_type": "markdown",
   "metadata": {},
   "source": [
    "# Q4: Find the sum and the average of this list of numbers.\n",
    "\n",
    "Try doing this using a loop.  Then try doing this without using a loop. "
   ]
  },
  {
   "cell_type": "code",
   "execution_count": 36,
   "metadata": {},
   "outputs": [
    {
     "name": "stdout",
     "output_type": "stream",
     "text": [
      "353 35.3\n"
     ]
    }
   ],
   "source": [
    "my_list = [1, 5, 10, 55, 88, 44, 42, 50, 20, 38]\n",
    "list_sum = 0\n",
    "list_avg = 0\n",
    "\n",
    "# Method 1: Super manual loop implementation\n",
    "# count = 0\n",
    "# for num in my_list:\n",
    "#     list_sum += num\n",
    "#     count += 1\n",
    "# list_avg = list_sum / count\n",
    "\n",
    "# Method 2: Using built-in functions\n",
    "list_sum = sum(my_list)\n",
    "list_avg = list_sum / len(my_list)\n",
    "\n",
    "print(list_sum, list_avg)"
   ]
  },
  {
   "cell_type": "markdown",
   "metadata": {},
   "source": [
    "# Q5: \n",
    "## Write a function that takes a list and returns a new list that has all the duplicates removed.\n",
    "\n",
    "Example input and expected output:\n",
    "- input = `[\"Michele\", \"Robin\", \"Sara\", \"Michele\"]`\n",
    "- expected output = `['Michele', 'Robin', 'Sara']`\n"
   ]
  },
  {
   "cell_type": "code",
   "execution_count": 37,
   "metadata": {},
   "outputs": [
    {
     "name": "stdout",
     "output_type": "stream",
     "text": [
      "['Michele', 'Robin', 'Sara']\n"
     ]
    }
   ],
   "source": [
    "# Time: O(n)\n",
    "# Space: O(n)\n",
    "def remove_duplicates(lst):\n",
    "    # Does order of the result list matter? If not: return list(set(lst)) \n",
    "    # If order matters:\n",
    "    seen = set()\n",
    "    result = []\n",
    "    for elem in lst:\n",
    "        if elem not in seen:\n",
    "            result.append(elem)\n",
    "            seen.add(elem)\n",
    "    return result\n",
    "\n",
    "names = [\"Michele\", \"Robin\", \"Sara\", \"Michele\"]\n",
    "unique_names = remove_duplicates(names)\n",
    "print(unique_names)"
   ]
  },
  {
   "cell_type": "markdown",
   "metadata": {},
   "source": [
    "# Q6: Write a function that takes a list of numbers \n",
    "(for example, `a = [5, 10, 15, 20, 25]`) and returns a new list of only the first and last elements of the given list.\n",
    "\n",
    "Example input and expected output:\n",
    "- input = `[5, 10, 15, 20, 25]`\n",
    "- expected output = `[5, 25]`"
   ]
  },
  {
   "cell_type": "code",
   "execution_count": null,
   "metadata": {},
   "outputs": [
    {
     "name": "stdout",
     "output_type": "stream",
     "text": [
      "[5, 25]\n"
     ]
    }
   ],
   "source": [
    "def first_and_last(lst):\n",
    "    # How should empty list and list containing one element be treated?\n",
    "    # An approach:\n",
    "    # if not lst:\n",
    "    #     return [None, None]\n",
    "    # if len(lst) == 1:\n",
    "    #     return [lst[0], None]\n",
    "\n",
    "    # Another approach: Treat an empty list or lists with one element as a violation of the function's precondition and raise an exception\n",
    "    if len(lst) < 2:\n",
    "        raise Exception(\"Argument list must contain at least 2 elements.\")\n",
    "    return [lst[0], lst[-1]]\n",
    "\n",
    "input_list = [5, 10, 99, 20, 25]\n",
    "print(first_and_last(input_list))"
   ]
  },
  {
   "cell_type": "markdown",
   "metadata": {},
   "source": [
    "# Q7: \n",
    "## Implement a function that takes as input three variables, and returns the largest of the three. \n",
    "### Try doing this without using the `max()` function!\n",
    "\n",
    "_**Note:** all three input numbers will always be different, no need to account for a tie._\n",
    "\n",
    "Example input and expected output:\n",
    "- input: `your_function(1, 5, 10)`\n",
    "- expected output:  `10`"
   ]
  },
  {
   "cell_type": "code",
   "execution_count": 39,
   "metadata": {},
   "outputs": [],
   "source": [
    "# Solve Problem here:\n",
    "\n",
    "def my_max(a, b, c):\n",
    "    max = a\n",
    "    if (b > max):\n",
    "        max = b\n",
    "    if (c > max):\n",
    "        max = c\n",
    "    return max"
   ]
  },
  {
   "cell_type": "code",
   "execution_count": 40,
   "metadata": {},
   "outputs": [
    {
     "data": {
      "text/plain": [
       "10"
      ]
     },
     "execution_count": 40,
     "metadata": {},
     "output_type": "execute_result"
    }
   ],
   "source": [
    "# Test to see if your function works properly.\n",
    "my_max(1, 5, 10)"
   ]
  },
  {
   "cell_type": "markdown",
   "metadata": {},
   "source": [
    "# Q8: Write a function that takes a number as input and returns the following:\n",
    "* If the input is divisible by three, return `'fizz'`\n",
    "* If the input is divisible by five, return `'buzz'`\n",
    "* If the input is divisible by three and by five, return `'fizzbuzz'`\n",
    "* If the input is not divisible by three or five, return `None`."
   ]
  },
  {
   "cell_type": "code",
   "execution_count": 41,
   "metadata": {},
   "outputs": [],
   "source": [
    "def fizz_buzz(x):\n",
    "    if x % 3 == 0 and x % 5 == 0:\n",
    "        return 'fizzbuzz'\n",
    "    elif x % 3 == 0:\n",
    "        return 'fizz'\n",
    "    elif x % 5 == 0:\n",
    "        return 'buzz'\n",
    "    return None"
   ]
  },
  {
   "cell_type": "code",
   "execution_count": 42,
   "metadata": {},
   "outputs": [
    {
     "name": "stdout",
     "output_type": "stream",
     "text": [
      "fizzbuzz\n",
      "fizz\n",
      "buzz\n",
      "None\n"
     ]
    }
   ],
   "source": [
    "# Test cases:\n",
    "print(fizz_buzz(15))    # fizzbuzz\n",
    "print(fizz_buzz(9))     # fizz  \n",
    "print(fizz_buzz(25))    # buzz\n",
    "print(fizz_buzz(91))    # None"
   ]
  }
 ],
 "metadata": {
  "kernelspec": {
   "display_name": "Python 3",
   "language": "python",
   "name": "python3"
  },
  "language_info": {
   "codemirror_mode": {
    "name": "ipython",
    "version": 3
   },
   "file_extension": ".py",
   "mimetype": "text/x-python",
   "name": "python",
   "nbconvert_exporter": "python",
   "pygments_lexer": "ipython3",
   "version": "3.12.1"
  }
 },
 "nbformat": 4,
 "nbformat_minor": 4
}
